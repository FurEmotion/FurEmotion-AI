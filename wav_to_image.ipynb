{
 "cells": [
  {
   "cell_type": "markdown",
   "metadata": {},
   "source": [
    "## 음성을 이미지로 변환\n"
   ]
  },
  {
   "cell_type": "markdown",
   "metadata": {},
   "source": [
    "음성에 멜 필터뱅크를 적용하여 이미지로 변환함으로서 CNN에 직접적으로 적용할 수 있도록 음성 파일을 변환함.\n"
   ]
  },
  {
   "cell_type": "code",
   "execution_count": 1,
   "metadata": {},
   "outputs": [],
   "source": [
    "# Load packages\n",
    "import os\n",
    "import sys\n",
    "import wave\n",
    "import librosa\n",
    "import numpy as np\n",
    "import pandas as pd\n",
    "import seaborn as sns\n",
    "from tqdm import tqdm\n",
    "import soundfile as sf\n",
    "import matplotlib.pyplot as plt\n",
    "from uuid import uuid4"
   ]
  },
  {
   "cell_type": "code",
   "execution_count": 2,
   "metadata": {},
   "outputs": [
    {
     "data": {
      "text/plain": [
       "['relax', 'hostile', 'whining']"
      ]
     },
     "execution_count": 2,
     "metadata": {},
     "output_type": "execute_result"
    }
   ],
   "source": [
    "target_animal = 'dog'  # 'cat', 'dog'\n",
    "\n",
    "# Set Path\n",
    "main_path = os.path.join(os.getcwd().rsplit(\n",
    "    'FurEmotion-AI')[0], 'FurEmotion-AI')\n",
    "data_path = os.path.join(main_path, 'data', target_animal)\n",
    "image_data_path = os.path.join(main_path, 'image_data', target_animal)\n",
    "\n",
    "sys.path.append(main_path)\n",
    "\n",
    "if not os.path.exists(image_data_path):\n",
    "    os.makedirs(image_data_path)\n",
    "if not os.path.exists(data_path):\n",
    "    os.makedirs(data_path)\n",
    "\n",
    "state_list = [dir_path for dir_path in os.listdir(data_path) if os.path.isdir(\n",
    "    os.path.join(data_path, dir_path))]\n",
    "state_list"
   ]
  },
  {
   "cell_type": "code",
   "execution_count": 3,
   "metadata": {},
   "outputs": [
    {
     "name": "stdout",
     "output_type": "stream",
     "text": [
      "relax: 151 ['/Users/jaewone/Downloads/FurEmotion-AI/data/dog/relax/relax_129.wav', '/Users/jaewone/Downloads/FurEmotion-AI/data/dog/relax/relax_115.wav']\n",
      "hostile: 151 ['/Users/jaewone/Downloads/FurEmotion-AI/data/dog/hostile/hostile_139.wav', '/Users/jaewone/Downloads/FurEmotion-AI/data/dog/hostile/hostile_111.wav']\n",
      "whining: 167 ['/Users/jaewone/Downloads/FurEmotion-AI/data/dog/whining/whining_17.wav', '/Users/jaewone/Downloads/FurEmotion-AI/data/dog/whining/whining_1.wav']\n"
     ]
    }
   ],
   "source": [
    "# 데이터 경로를 불러오는 함수를 정의한다.\n",
    "def get_sound_files_by_state(target_path, state_list):\n",
    "    sound_files = {}\n",
    "    for state in state_list:\n",
    "        sound_files[state] = []\n",
    "\n",
    "    for (root, dir, files) in os.walk(target_path):\n",
    "        folder_state = root.split('/')[-1]\n",
    "        if folder_state not in state_list:\n",
    "            continue\n",
    "        for file in files:\n",
    "            if file.endswith('.wav'):\n",
    "                sound_files[root.split(\n",
    "                    '/')[-1]].append(os.path.join(root, file))\n",
    "    return sound_files\n",
    "\n",
    "\n",
    "origin_sound_files = get_sound_files_by_state(data_path, state_list)\n",
    "for state in state_list:\n",
    "    print(\n",
    "        f'{state}: {len(origin_sound_files[state])}', origin_sound_files[state][:2])"
   ]
  },
  {
   "cell_type": "markdown",
   "metadata": {},
   "source": [
    "## 음성 길이와 주파수 통일\n"
   ]
  },
  {
   "cell_type": "markdown",
   "metadata": {},
   "source": [
    "자르는 과정에서 정확하게 2초가 아닌 1.98초와 같이 정확하게 시간이 맞추어지지 않는 경우가 있다. 이에 음성 앞뒤에 padding을 추가하여 정확하게 2초로 맞추어준다. 이때, padding은 0으로 채워준다.\n"
   ]
  },
  {
   "cell_type": "code",
   "execution_count": 4,
   "metadata": {},
   "outputs": [
    {
     "name": "stdout",
     "output_type": "stream",
     "text": [
      "\n",
      "Padding files in 'relax'\n"
     ]
    },
    {
     "name": "stderr",
     "output_type": "stream",
     "text": [
      "100%|██████████| 151/151 [00:00<00:00, 3351.47it/s]\n"
     ]
    },
    {
     "name": "stdout",
     "output_type": "stream",
     "text": [
      "\n",
      "Checking files in 'relax'\n"
     ]
    },
    {
     "name": "stderr",
     "output_type": "stream",
     "text": [
      "100%|██████████| 151/151 [00:00<00:00, 29584.26it/s]\n"
     ]
    },
    {
     "name": "stdout",
     "output_type": "stream",
     "text": [
      "All files have a duration of 2.0 seconds and a sampling rate of 16000 Hz.\n",
      "\n",
      "Padding files in 'hostile'\n"
     ]
    },
    {
     "name": "stderr",
     "output_type": "stream",
     "text": [
      "100%|██████████| 151/151 [00:00<00:00, 3177.33it/s]\n"
     ]
    },
    {
     "name": "stdout",
     "output_type": "stream",
     "text": [
      "\n",
      "Checking files in 'hostile'\n"
     ]
    },
    {
     "name": "stderr",
     "output_type": "stream",
     "text": [
      "100%|██████████| 151/151 [00:00<00:00, 29016.35it/s]\n"
     ]
    },
    {
     "name": "stdout",
     "output_type": "stream",
     "text": [
      "All files have a duration of 2.0 seconds and a sampling rate of 16000 Hz.\n",
      "\n",
      "Padding files in 'whining'\n"
     ]
    },
    {
     "name": "stderr",
     "output_type": "stream",
     "text": [
      "100%|██████████| 167/167 [00:00<00:00, 3329.67it/s]\n"
     ]
    },
    {
     "name": "stdout",
     "output_type": "stream",
     "text": [
      "\n",
      "Checking files in 'whining'\n"
     ]
    },
    {
     "name": "stderr",
     "output_type": "stream",
     "text": [
      "100%|██████████| 167/167 [00:00<00:00, 28858.30it/s]"
     ]
    },
    {
     "name": "stdout",
     "output_type": "stream",
     "text": [
      "All files have a duration of 2.0 seconds and a sampling rate of 16000 Hz.\n"
     ]
    },
    {
     "name": "stderr",
     "output_type": "stream",
     "text": [
      "\n"
     ]
    }
   ],
   "source": [
    "import os\n",
    "from scipy.io import wavfile\n",
    "import numpy as np\n",
    "from tqdm import tqdm\n",
    "\n",
    "\n",
    "def pad_wav_files(sound_data_path, sampling_rate=16000, duration=2.0):\n",
    "    all_files = os.listdir(sound_data_path)\n",
    "    wav_files = [f for f in all_files if f.lower().endswith('.wav')]\n",
    "\n",
    "    for i in tqdm(range(len(wav_files))):\n",
    "        file_path = os.path.join(sound_data_path, wav_files[i])\n",
    "        try:\n",
    "            file_sampling_rate, data = wavfile.read(file_path)\n",
    "            if file_sampling_rate != sampling_rate:\n",
    "                print(\n",
    "                    f\"File '{wav_files[i]}' has a different sampling rate ({file_sampling_rate} Hz). Skipping.\")\n",
    "                continue\n",
    "\n",
    "            target_length = int(duration * sampling_rate)\n",
    "            current_length = data.shape[0]\n",
    "\n",
    "            if current_length < target_length:\n",
    "                padding_needed = target_length - current_length\n",
    "                padding_left = padding_needed // 2\n",
    "                padding_right = padding_needed - padding_left\n",
    "\n",
    "                if data.ndim == 1:\n",
    "                    # Mono channel\n",
    "                    padded_data = np.pad(\n",
    "                        data, (padding_left, padding_right), mode='constant', constant_values=0)\n",
    "                else:\n",
    "                    # Multi-channel (e.g., stereo)\n",
    "                    padded_data = np.pad(\n",
    "                        data, ((padding_left, padding_right), (0, 0)), mode='constant', constant_values=0)\n",
    "\n",
    "                wavfile.write(file_path, sampling_rate, padded_data)\n",
    "            elif current_length > target_length:\n",
    "                # Trim the excess if longer than desired duration\n",
    "                trimmed_data = data[:target_length]\n",
    "                wavfile.write(file_path, sampling_rate, trimmed_data)\n",
    "            else:\n",
    "                # Already the desired duration\n",
    "                pass\n",
    "        except Exception as e:\n",
    "            print(f\"Could not process '{wav_files[i]}': {e}\")\n",
    "\n",
    "\n",
    "def check_wav_files(sound_data_path, sampling_rate=16000, duration=2.0):\n",
    "    all_files = os.listdir(sound_data_path)\n",
    "    wav_files = [f for f in all_files if f.lower().endswith('.wav')]\n",
    "    all_ok = True\n",
    "\n",
    "    for i in tqdm(range(len(wav_files))):\n",
    "        file_path = os.path.join(sound_data_path, wav_files[i])\n",
    "        try:\n",
    "            file_sampling_rate, data = wavfile.read(file_path)\n",
    "            file_duration = len(data) / file_sampling_rate\n",
    "            if file_sampling_rate != sampling_rate or abs(file_duration - duration) > 0.01:\n",
    "                print(f\"File '{wav_files[i]}' does not meet the criteria.\")\n",
    "                print(\n",
    "                    f\"Sampling rate: {file_sampling_rate}, Duration: {file_duration:.2f} seconds\")\n",
    "                all_ok = False\n",
    "        except Exception as e:\n",
    "            print(f\"Could not read file '{wav_files[i]}': {e}\")\n",
    "            all_ok = False\n",
    "\n",
    "    if all_ok:\n",
    "        print(\n",
    "            f\"All files have a duration of {duration} seconds and a sampling rate of {sampling_rate} Hz.\")\n",
    "    else:\n",
    "        print(\"Some files do not meet the criteria.\")\n",
    "\n",
    "\n",
    "for state in state_list:\n",
    "    state_path = os.path.join(data_path, state)\n",
    "    print(f\"\\nPadding files in '{state}'\")\n",
    "    pad_wav_files(state_path)\n",
    "\n",
    "    print(f\"\\nChecking files in '{state}'\")\n",
    "    check_wav_files(state_path)"
   ]
  },
  {
   "cell_type": "markdown",
   "metadata": {},
   "source": [
    "## 이미지로 변환 후 저장\n"
   ]
  },
  {
   "cell_type": "markdown",
   "metadata": {},
   "source": [
    "분석을 용이하게 하기 위해 이미지로 변환한 후 저장한다.\n"
   ]
  },
  {
   "cell_type": "code",
   "execution_count": 5,
   "metadata": {},
   "outputs": [
    {
     "name": "stdout",
     "output_type": "stream",
     "text": [
      "\n",
      "Start processing 'relax'\n"
     ]
    },
    {
     "name": "stderr",
     "output_type": "stream",
     "text": [
      "  1%|          | 1/151 [00:00<01:29,  1.68it/s]/var/folders/10/9_p98m6j42n84y4wmf_k0krc0000gn/T/ipykernel_75169/4012959364.py:43: RuntimeWarning: invalid value encountered in divide\n",
      "  mel_spec /= mel_spec.max()\n",
      "/var/folders/10/9_p98m6j42n84y4wmf_k0krc0000gn/T/ipykernel_75169/4012959364.py:45: RuntimeWarning: invalid value encountered in cast\n",
      "  mel_spec = mel_spec.astype(np.uint8)\n",
      "100%|██████████| 151/151 [00:03<00:00, 44.45it/s]\n"
     ]
    },
    {
     "name": "stdout",
     "output_type": "stream",
     "text": [
      "\n",
      "Start processing 'hostile'\n"
     ]
    },
    {
     "name": "stderr",
     "output_type": "stream",
     "text": [
      "100%|██████████| 151/151 [00:02<00:00, 55.38it/s]\n"
     ]
    },
    {
     "name": "stdout",
     "output_type": "stream",
     "text": [
      "\n",
      "Start processing 'whining'\n"
     ]
    },
    {
     "name": "stderr",
     "output_type": "stream",
     "text": [
      "100%|██████████| 167/167 [00:02<00:00, 70.70it/s]\n"
     ]
    }
   ],
   "source": [
    "import os\n",
    "import numpy as np\n",
    "import librosa\n",
    "from skimage.transform import resize\n",
    "from PIL import Image\n",
    "\n",
    "\n",
    "def convert_wav_to_image(file_path: str) -> np.ndarray:\n",
    "    \"\"\"\n",
    "    Converts a WAV file to a mel spectrogram image.\n",
    "\n",
    "    Parameters:\n",
    "    file_path (str): Path to the WAV file.\n",
    "\n",
    "    Returns:\n",
    "    np.ndarray: A 3D numpy array representing the image.\n",
    "    \"\"\"\n",
    "    y, sr = librosa.load(file_path, sr=16000)\n",
    "    mel_spec = librosa.feature.melspectrogram(\n",
    "        y=y, sr=sr, n_mels=128, n_fft=2048, hop_length=501)\n",
    "    mel_spec_dB = librosa.power_to_db(mel_spec, ref=np.max)\n",
    "    RATIO = 862 / 64\n",
    "    mel_spec_dB_resized = resize(\n",
    "        mel_spec_dB,\n",
    "        (mel_spec_dB.shape[0], int(mel_spec_dB.shape[1] * RATIO)),\n",
    "        anti_aliasing=True,\n",
    "        mode='reflect'\n",
    "    )\n",
    "    mel_spec_dB_stacked = np.stack([mel_spec_dB_resized] * 3, axis=-1)\n",
    "    return mel_spec_dB_stacked\n",
    "\n",
    "\n",
    "def save_spectrogram_image(mel_spec: np.ndarray, save_path: str):\n",
    "    \"\"\"\n",
    "    Saves the mel spectrogram as an image file.\n",
    "\n",
    "    Parameters:\n",
    "    mel_spec (np.ndarray): The mel spectrogram array.\n",
    "    save_path (str): Path where the image will be saved.\n",
    "    \"\"\"\n",
    "    # Normalize the spectrogram to the range [0, 255]\n",
    "    mel_spec -= mel_spec.min()\n",
    "    mel_spec /= mel_spec.max()\n",
    "    mel_spec *= 255.0\n",
    "    mel_spec = mel_spec.astype(np.uint8)\n",
    "\n",
    "    # Convert to PIL Image and save\n",
    "    image = Image.fromarray(mel_spec)\n",
    "    image.save(save_path)\n",
    "\n",
    "\n",
    "for state in state_list:\n",
    "    state_sound_path = os.path.join(data_path, state)\n",
    "    state_image_path = os.path.join(image_data_path, state)\n",
    "    os.makedirs(state_image_path, exist_ok=True)\n",
    "\n",
    "    wav_files = [f for f in os.listdir(\n",
    "        state_sound_path) if f.lower().endswith('.wav')]\n",
    "\n",
    "    print(f\"\\nStart processing '{state}'\")\n",
    "    for i in tqdm(range(len(wav_files))):\n",
    "        wav_file_path = os.path.join(state_sound_path, wav_files[i])\n",
    "        image_file_name = os.path.splitext(wav_files[i])[0] + '.png'\n",
    "        image_file_path = os.path.join(state_image_path, image_file_name)\n",
    "\n",
    "        try:\n",
    "            mel_spec_image = convert_wav_to_image(wav_file_path)\n",
    "            save_spectrogram_image(mel_spec_image, image_file_path)\n",
    "        except Exception as e:\n",
    "            print(f\"Could not process '{wav_files[i]}': {e}\")"
   ]
  }
 ],
 "metadata": {
  "kernelspec": {
   "display_name": "tf24",
   "language": "python",
   "name": "python3"
  },
  "language_info": {
   "codemirror_mode": {
    "name": "ipython",
    "version": 3
   },
   "file_extension": ".py",
   "mimetype": "text/x-python",
   "name": "python",
   "nbconvert_exporter": "python",
   "pygments_lexer": "ipython3",
   "version": "3.11.10"
  }
 },
 "nbformat": 4,
 "nbformat_minor": 2
}
